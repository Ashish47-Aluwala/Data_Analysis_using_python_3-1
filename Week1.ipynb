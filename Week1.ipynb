{
  "nbformat": 4,
  "nbformat_minor": 0,
  "metadata": {
    "colab": {
      "provenance": [],
      "authorship_tag": "ABX9TyPx01yB9+NCGWyqPos0rUgK",
      "include_colab_link": true
    },
    "kernelspec": {
      "name": "python3",
      "display_name": "Python 3"
    },
    "language_info": {
      "name": "python"
    }
  },
  "cells": [
    {
      "cell_type": "markdown",
      "metadata": {
        "id": "view-in-github",
        "colab_type": "text"
      },
      "source": [
        "<a href=\"https://colab.research.google.com/github/Ashish47-Aluwala/Data_Analysis_using_python_3-1/blob/main/Week1.ipynb\" target=\"_parent\"><img src=\"https://colab.research.google.com/assets/colab-badge.svg\" alt=\"Open In Colab\"/></a>"
      ]
    },
    {
      "cell_type": "code",
      "execution_count": 1,
      "metadata": {
        "id": "2SZ8OD0H-AeK"
      },
      "outputs": [],
      "source": [
        "import numpy as np\n",
        "import pandas as pd\n",
        "import matplotlib.pyplot as plt\n"
      ]
    },
    {
      "cell_type": "code",
      "source": [
        "completion_times = np.array([22, 28, 35, 24, 30, 32, 18, 26, 40, 29])\n"
      ],
      "metadata": {
        "id": "-XnBLhoP-Raw"
      },
      "execution_count": 2,
      "outputs": []
    },
    {
      "cell_type": "code",
      "source": [
        "threshold = 30\n",
        "\n",
        "def categorize_students(times, threshold=30):\n",
        "    categories = []\n",
        "    for t in times:\n",
        "        if t < threshold - 5:   # Fast Learner\n",
        "            categories.append(\"Fast Learner\")\n",
        "        elif threshold - 5 <= t <= threshold:  # On Time\n",
        "            categories.append(\"On Time\")\n",
        "        else:   # Needs Support\n",
        "            categories.append(\"Needs Support\")\n",
        "    return pd.Categorical(categories,\n",
        "                          categories=[\"Fast Learner\", \"On Time\", \"Needs Support\"],\n",
        "                          ordered=True)\n",
        "\n",
        "categories = categorize_students(completion_times, threshold)\n"
      ],
      "metadata": {
        "id": "_BTzBs4E-yAI"
      },
      "execution_count": 3,
      "outputs": []
    },
    {
      "cell_type": "code",
      "source": [
        "print(\"Length of data:\", len(completion_times))\n",
        "print(\"Data type of completion times:\", completion_times.dtype)\n",
        "print(\"Categories data type:\", type(categories))\n",
        "print(\"Categories structure:\", categories.categories)\n",
        "\n",
        "# Frequency & proportion\n",
        "freq = pd.Series(categories).value_counts().sort_index()\n",
        "prop = pd.Series(categories).value_counts(normalize=True).sort_index()\n",
        "print(\"\\nFrequency of each learner type:\\n\", freq)\n",
        "print(\"\\nProportion of each learner type:\\n\", prop)\n"
      ],
      "metadata": {
        "colab": {
          "base_uri": "https://localhost:8080/"
        },
        "id": "UlE2dncg-2Qh",
        "outputId": "6599d0cc-8761-409b-a1db-1e7099016193"
      },
      "execution_count": 4,
      "outputs": [
        {
          "output_type": "stream",
          "name": "stdout",
          "text": [
            "Length of data: 10\n",
            "Data type of completion times: int64\n",
            "Categories data type: <class 'pandas.core.arrays.categorical.Categorical'>\n",
            "Categories structure: Index(['Fast Learner', 'On Time', 'Needs Support'], dtype='object')\n",
            "\n",
            "Frequency of each learner type:\n",
            " Fast Learner     3\n",
            "On Time          4\n",
            "Needs Support    3\n",
            "Name: count, dtype: int64\n",
            "\n",
            "Proportion of each learner type:\n",
            " Fast Learner     0.3\n",
            "On Time          0.4\n",
            "Needs Support    0.3\n",
            "Name: proportion, dtype: float64\n"
          ]
        }
      ]
    },
    {
      "cell_type": "code",
      "source": [
        "mean_val = np.mean(completion_times)\n",
        "median_val = np.median(completion_times)\n",
        "std_val = np.std(completion_times, ddof=1)  # sample std\n",
        "\n",
        "print(\"\\nMean:\", mean_val)\n",
        "print(\"Median:\", median_val)\n",
        "print(\"Standard Deviation:\", std_val)\n",
        "\n",
        "# Pass rate: Fast Learner or On Time\n",
        "passed = np.isin(categories, [\"Fast Learner\", \"On Time\"]).sum()\n",
        "pass_rate = passed / len(completion_times)\n",
        "print(\"\\nPass Rate:\", pass_rate)\n"
      ],
      "metadata": {
        "colab": {
          "base_uri": "https://localhost:8080/"
        },
        "id": "oUWx21fn-6cK",
        "outputId": "e1dcd4d0-f715-437f-8adf-719adcda87d9"
      },
      "execution_count": 5,
      "outputs": [
        {
          "output_type": "stream",
          "name": "stdout",
          "text": [
            "\n",
            "Mean: 28.4\n",
            "Median: 28.5\n",
            "Standard Deviation: 6.397916327472041\n",
            "\n",
            "Pass Rate: 0.7\n"
          ]
        }
      ]
    },
    {
      "cell_type": "code",
      "source": [
        "def reclassify_and_plot(times, threshold):\n",
        "    new_categories = categorize_students(times, threshold)\n",
        "\n",
        "    # Frequency for visualization\n",
        "    freq = pd.Series(new_categories).value_counts().sort_index()\n",
        "\n",
        "    # Bar chart\n",
        "    plt.figure(figsize=(6,4))\n",
        "    freq.plot(kind=\"bar\", color=[\"green\", \"blue\", \"red\"])\n",
        "    plt.title(f\"Student Performance Distribution (Threshold = {threshold} hrs)\")\n",
        "    plt.xlabel(\"Category\")\n",
        "    plt.ylabel(\"Number of Students\")\n",
        "    plt.xticks(rotation=0)\n",
        "    plt.show()\n",
        "\n",
        "    return new_categories, freq\n"
      ],
      "metadata": {
        "id": "9mvxx8j8--8S"
      },
      "execution_count": 6,
      "outputs": []
    },
    {
      "cell_type": "code",
      "source": [
        "new_categories, new_freq = reclassify_and_plot(completion_times,threshold=32)"
      ],
      "metadata": {
        "colab": {
          "base_uri": "https://localhost:8080/",
          "height": 410
        },
        "id": "9VB2wSMd_E6w",
        "outputId": "772dde16-3593-4a41-ba37-a7a64a58c237"
      },
      "execution_count": 8,
      "outputs": [
        {
          "output_type": "display_data",
          "data": {
            "text/plain": [
              "<Figure size 600x400 with 1 Axes>"
            ],
            "image/png": "[encoded data removed]"
          },
          "metadata": {}
        }
      ]
    }
  ]
}